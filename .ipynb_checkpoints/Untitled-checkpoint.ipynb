{
 "cells": [
  {
   "cell_type": "code",
   "execution_count": 2,
   "metadata": {},
   "outputs": [
    {
     "name": "stderr",
     "output_type": "stream",
     "text": [
      "/home/tisan/anaconda3/lib/python3.6/site-packages/matplotlib/cbook/deprecation.py:106: MatplotlibDeprecationWarning: Adding an axes using the same arguments as a previous axes currently reuses the earlier instance.  In a future version, a new instance will always be created and returned.  Meanwhile, this warning can be suppressed, and the future behavior ensured, by passing a unique label to each axes instance.\n",
      "  warnings.warn(message, mplDeprecation, stacklevel=1)\n"
     ]
    }
   ],
   "source": [
    "\"\"\"\n",
    "Hatching (pattern filled polygons) is supported currently in the PS,\n",
    "PDF, SVG and Agg backends only.\n",
    "\"\"\"\n",
    "import matplotlib.pyplot as plt\n",
    "from matplotlib.patches import Ellipse, Polygon\n",
    "\n",
    "# fig = plt.figure()\n",
    "# ax1 = fig.add_subplot(131)\n",
    "# ax1.bar(range(1, 5), range(1, 5), color='red', edgecolor='black', hatch=\"/\")\n",
    "# ax1.bar(range(1, 5), [6] * 4, bottom=range(1, 5), color='blue', edgecolor='black', hatch='//')\n",
    "# ax1.set_xticks([1.5, 2.5, 3.5, 4.5])\n",
    "\n",
    "ax2 = fig.add_subplot(132)\n",
    "bars = ax2.bar(range(1, 5), range(1, 5), color='yellow', ecolor='black') + \\\n",
    "    ax2.bar(range(1, 5), [6] * 4, bottom=range(1, 5), color='green', ecolor='black')\n",
    "ax2.set_xticks([1.5, 2.5, 3.5, 4.5])\n",
    "\n",
    "patterns = ('-', '+', 'x', '\\\\', '*', 'o', 'O', '.')\n",
    "for bar, pattern in zip(bars, patterns):\n",
    "    bar.set_hatch(pattern)\n",
    "\n",
    "ax3 = fig.add_subplot(133)\n",
    "ax3.fill([1, 3, 3, 1], [1, 1, 2, 2], fill=False, hatch='\\\\')\n",
    "ax3.add_patch(Ellipse((4, 1.5), 4, 0.5, fill=False, hatch='*'))\n",
    "ax3.add_patch(Polygon([[0, 0], [4, 1.1], [6, 2.5], [2, 1.4]], closed=True,\n",
    "                      fill=False, hatch='/'))\n",
    "ax3.set_xlim((0, 6))\n",
    "ax3.set_ylim((0, 2.5))\n",
    "\n",
    "plt.show()"
   ]
  },
  {
   "cell_type": "code",
   "execution_count": 3,
   "metadata": {},
   "outputs": [
    {
     "data": {
      "image/png": "[encoded data removed]",
      "text/plain": [
       "<matplotlib.figure.Figure at 0x7fa8a44ec6a0>"
      ]
     },
     "metadata": {},
     "output_type": "display_data"
    }
   ],
   "source": [
    "import matplotlib.pyplot as plt; plt.rcdefaults()\n",
    "import numpy as np\n",
    "import matplotlib.pyplot as plt\n",
    " \n",
    "objects = ('SCAN', 'DOUBLE SCAN', 'Java', 'Perl', 'Scala', 'Lisp')\n",
    "y_pos = np.arange(len(objects))\n",
    "performance = [10,8,6,4,2,1]\n",
    " \n",
    "plt.bar(y_pos, performance, align='center', alpha=0.5)\n",
    "plt.xticks(y_pos, objects)\n",
    "plt.ylabel('Usage')\n",
    "plt.title('Programming language usage')\n",
    " \n",
    "plt.show()"
   ]
  },
  {
   "cell_type": "code",
   "execution_count": null,
   "metadata": {
    "collapsed": true
   },
   "outputs": [],
   "source": []
  }
 ],
 "metadata": {
  "kernelspec": {
   "display_name": "Python 3",
   "language": "python",
   "name": "python3"
  },
  "language_info": {
   "codemirror_mode": {
    "name": "ipython",
    "version": 3
   },
   "file_extension": ".py",
   "mimetype": "text/x-python",
   "name": "python",
   "nbconvert_exporter": "python",
   "pygments_lexer": "ipython3",
   "version": "3.6.3"
  }
 },
 "nbformat": 4,
 "nbformat_minor": 2
}
